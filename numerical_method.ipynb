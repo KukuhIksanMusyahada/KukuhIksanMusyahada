{
  "nbformat": 4,
  "nbformat_minor": 0,
  "metadata": {
    "colab": {
      "name": "numerical method",
      "provenance": [],
      "collapsed_sections": [],
      "authorship_tag": "ABX9TyP9uYDqD34SwM6owQne0fSn",
      "include_colab_link": true
    },
    "kernelspec": {
      "display_name": "Python 3",
      "name": "python3"
    },
    "language_info": {
      "name": "python"
    }
  },
  "cells": [
    {
      "cell_type": "markdown",
      "metadata": {
        "id": "view-in-github",
        "colab_type": "text"
      },
      "source": [
        "<a href=\"https://colab.research.google.com/github/KukuhIksanMusyahada/KukuhIksanMusyahada/blob/main/numerical_method.ipynb\" target=\"_parent\"><img src=\"https://colab.research.google.com/assets/colab-badge.svg\" alt=\"Open In Colab\"/></a>"
      ]
    },
    {
      "cell_type": "markdown",
      "metadata": {
        "id": "qLf0MLldZ9_M"
      },
      "source": [
        "##FTCS METHOD For flow over Flate plat "
      ]
    },
    {
      "cell_type": "markdown",
      "metadata": {
        "id": "dE7coXLzOqr2"
      },
      "source": [
        "Created by Kukuh Iksan Musyahada NIM 13618045"
      ]
    },
    {
      "cell_type": "code",
      "metadata": {
        "colab": {
          "base_uri": "https://localhost:8080/"
        },
        "id": "qdLLmlB6If_h",
        "outputId": "0cdb07d2-4620-4f76-b1c5-40f97a836ccc"
      },
      "source": [
        "import numpy as np\n",
        "\n",
        "#import data\n",
        "u0=40 \n",
        "h=0.04\n",
        "vi=0.000217\n",
        "\n",
        "#step_length\n",
        "dt=0.03\n",
        "grid=10\n",
        "dx=h/(grid)\n",
        "\n",
        "\n",
        "#calculate_stabilitas\n",
        "stabil=vi*dt/(dx**2)\n",
        "if stabil>=0.5:\n",
        "  print(\"the calculation will result in divergent manner!\")\n",
        "\n",
        "#initialize\n",
        "N=np.zeros(grid+1)\n",
        "N_before=np.zeros(grid+1)\n",
        "err=np.zeros(grid+1)\n",
        "\n",
        "\n",
        "#initialcondition\n",
        "for step in range(grid+1):\n",
        "  N[0]=u0\n",
        "N_before=N\n",
        "N_compute=np.matrix([N_before,N])\n",
        "#calculation\n",
        "iter=1\n",
        "while iter>0: #time_march\n",
        "  for step in range(1,grid):\n",
        "    N_compute[1,step]=N_compute[0,step]+stabil*(N_compute[0,step+1]+N_compute[0,step-1]-2*N_compute[0,step]) #space_march\n",
        "  for step in range (grid):\n",
        "    err[step]=np.absolute(N_compute[1,step]-N_compute[0,step]) #Calculate Error for each grid \n",
        "  eror=np.sum(err) #calculate total error\n",
        "  N_compute[0,:]=N_compute[1,:] #reevaluete the calculation matrix\n",
        "  if eror<0.002: #limit error allowed\n",
        "    break\n",
        "print(N_compute[1,:]) #printing result\n",
        "print(eror)\n",
        "\n",
        "\n",
        "\n",
        "\n",
        "\n"
      ],
      "execution_count": 60,
      "outputs": [
        {
          "output_type": "stream",
          "name": "stdout",
          "text": [
            "[[40.         35.99769772 31.99562079 27.99397254 23.9929143  19.99254965\n",
            "  15.9929143  11.99397254  7.99562079  3.99769772  0.        ]]\n",
            "0.0019511958018063602\n"
          ]
        }
      ]
    },
    {
      "cell_type": "markdown",
      "metadata": {
        "id": "dCpoCW0rfIzF"
      },
      "source": [
        "#DUFORT-FORKELL for flow over flat plat"
      ]
    },
    {
      "cell_type": "code",
      "metadata": {
        "colab": {
          "base_uri": "https://localhost:8080/"
        },
        "id": "bLO9R9n0bzrl",
        "outputId": "2d01255f-a695-43e3-f45b-38666727c855"
      },
      "source": [
        "import numpy as np\n",
        "\n",
        "#import data\n",
        "u0=40 \n",
        "h=0.04\n",
        "vi=0.000217\n",
        "\n",
        "#step_length\n",
        "dt=0.03\n",
        "grid=10\n",
        "dx=h/(grid)\n",
        "\n",
        "\n",
        "#calculate_stabilitas\n",
        "stabil=2*vi*dt/(dx**2)\n",
        "\n",
        "\n",
        "#initialize\n",
        "N=np.zeros(grid+1)\n",
        "N_before=np.zeros(grid+1)\n",
        "N_after=np.zeros(grid+1)\n",
        "err=np.zeros(grid+1)\n",
        "\n",
        "#initialcondition\n",
        "for step in range(grid+1):\n",
        "  N[0]=u0\n",
        "N_before=N\n",
        "N_after=N\n",
        "N_compute=np.matrix([N_before,N,N_after])\n",
        "\n",
        "\n",
        "iter=1\n",
        "while iter<100:\n",
        "  for step in range(1,grid):\n",
        "    N_compute[2,step]=((1-stabil)*N_compute[0,step]+stabil*(N_compute[1,step-1]+N_compute[1,step+1]))/(1+stabil)\n",
        "  for step in range(1,grid):\n",
        "    err[step]=np.absolute(N_compute[2,step]-N_compute[1,step])\n",
        "  eror=np.sum(err)\n",
        "  iter=iter+1\n",
        "  N_compute[2,:]=np.round(N_compute[2,:],6)\n",
        "  N_compute[0,:]=N_compute[1,:]\n",
        "  N_compute[1,:]=N_compute[2,:]\n",
        "print(np.round(eror,6))\n",
        "print(N_compute[2,:])\n",
        "\n"
      ],
      "execution_count": 71,
      "outputs": [
        {
          "output_type": "stream",
          "name": "stdout",
          "text": [
            "0.122227\n",
            "[[40.       35.861604 31.72588  27.637676 23.556466 19.552144 15.556467\n",
            "  11.637678  7.725882  3.861605  0.      ]]\n"
          ]
        }
      ]
    }
  ]
}